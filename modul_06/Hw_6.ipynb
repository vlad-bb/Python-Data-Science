{
  "nbformat": 4,
  "nbformat_minor": 0,
  "metadata": {
    "colab": {
      "provenance": []
    },
    "kernelspec": {
      "name": "python3",
      "display_name": "Python 3"
    },
    "language_info": {
      "name": "python"
    }
  },
  "cells": [
    {
      "cell_type": "markdown",
      "source": [
        "# Модуль 6 Spark, PySpark"
      ],
      "metadata": {
        "id": "KCoilyOM4cLQ"
      }
    },
    {
      "cell_type": "markdown",
      "source": [
        "##Завдання 1\n",
        "У цьому завданні вам потрібно завантажити [цей датасет](https://www.kaggle.com/sootersaalu/amazon-top-50-bestselling-books-2009-2019/download). Ми з вами вже працювали з ним коли вивчали pandas. Це все так само Топ-50 книг, що найбільше продаються на Amazon в період з 2009 по 2019 роки. Потрібно виконати таке:\n",
        "\n",
        "Створити спарк сесію.\n",
        "\n",
        "Прочитати датасет до датафрейму.\n",
        "\n",
        "Використовуючи тільки RDD обчислити середню ціну всіх книг, у яких рейтинг вищий за 4.7\n",
        "\n",
        "Побудувати гістограму розподілу рецензій (стовпець Reviews).\n",
        "\n",
        "Побудувати матрицю кореляції для стовпців \"User Rating\", \"Reviews\" та \"Price\".\n",
        "\n",
        "Використовуючи бібліотеку seaborn побудувати парні графіки (pairplots) стовпців \"User Rating\", \"Reviews\" та \"Price\"."
      ],
      "metadata": {
        "id": "Qi93hPst4l-g"
      }
    },
    {
      "cell_type": "code",
      "source": [
        "!pip install pyspark"
      ],
      "metadata": {
        "id": "kJ1OeaUy46q6"
      },
      "execution_count": null,
      "outputs": []
    },
    {
      "cell_type": "code",
      "source": [
        "import pandas as pd\n",
        "from pyspark.sql import SparkSession\n",
        "from pyspark import SparkFiles\n",
        "import matplotlib.pyplot as plt \n",
        "import seaborn as sns\n",
        "from pyspark.sql.functions import mean"
      ],
      "metadata": {
        "id": "cot7cihT5Urf"
      },
      "execution_count": 22,
      "outputs": []
    },
    {
      "cell_type": "code",
      "source": [
        "spark = SparkSession.builder.getOrCreate()"
      ],
      "metadata": {
        "id": "GWr5O5Cx5pCL"
      },
      "execution_count": 3,
      "outputs": []
    },
    {
      "cell_type": "code",
      "source": [
        "\"\"\"Завантаження по URL не працює\"\"\"\n",
        "url = 'https://drive.google.com/u/0/uc?id=1_mzO_nvnFn3CnTynoUyLxO0Xe9IdwhUb&export=download'\n",
        "url_2 = 'https://raw.githubusercontent.com/vlad-bb/Python-Data-Science/main/modul_06/bestsellers.csv'\n",
        "spark.sparkContext.addFile(url_2)\n",
        "df = spark.read.option(\"sep\", \",\").csv(\"file://\" + SparkFiles.get(\"bestsellers.csv\"),header=True, inferSchema=True)"
      ],
      "metadata": {
        "id": "w3H0A2Rr6ESg"
      },
      "execution_count": 4,
      "outputs": []
    },
    {
      "cell_type": "code",
      "source": [
        "df.show()"
      ],
      "metadata": {
        "colab": {
          "base_uri": "https://localhost:8080/"
        },
        "id": "hBecXbYO_qFM",
        "outputId": "56bf8d67-9dfd-4873-e7ae-29c4882f33d5"
      },
      "execution_count": 5,
      "outputs": [
        {
          "output_type": "stream",
          "name": "stdout",
          "text": [
            "+--------------------+--------------------+-----------+-------+-----+----+-----------+\n",
            "|                Name|              Author|User Rating|Reviews|Price|Year|      Genre|\n",
            "+--------------------+--------------------+-----------+-------+-----+----+-----------+\n",
            "|10-Day Green Smoo...|            JJ Smith|        4.7|  17350|    8|2016|Non Fiction|\n",
            "|   11/22/63: A Novel|        Stephen King|        4.6|   2052|   22|2011|    Fiction|\n",
            "|12 Rules for Life...|  Jordan B. Peterson|        4.7|  18979|   15|2018|Non Fiction|\n",
            "|1984 (Signet Clas...|       George Orwell|        4.7|  21424|    6|2017|    Fiction|\n",
            "|5,000 Awesome Fac...|National Geograph...|        4.8|   7665|   12|2019|Non Fiction|\n",
            "|A Dance with Drag...| George R. R. Martin|        4.4|  12643|   11|2011|    Fiction|\n",
            "|A Game of Thrones...| George R. R. Martin|        4.7|  19735|   30|2014|    Fiction|\n",
            "|A Gentleman in Mo...|         Amor Towles|        4.7|  19699|   15|2017|    Fiction|\n",
            "|A Higher Loyalty:...|         James Comey|        4.7|   5983|    3|2018|Non Fiction|\n",
            "|A Man Called Ove:...|     Fredrik Backman|        4.6|  23848|    8|2016|    Fiction|\n",
            "|A Man Called Ove:...|     Fredrik Backman|        4.6|  23848|    8|2017|    Fiction|\n",
            "|A Patriot's Histo...|    Larry Schweikart|        4.6|    460|    2|2010|Non Fiction|\n",
            "|A Stolen Life: A ...|       Jaycee Dugard|        4.6|   4149|   32|2011|Non Fiction|\n",
            "|A Wrinkle in Time...|   Madeleine L'Engle|        4.5|   5153|    5|2018|    Fiction|\n",
            "|Act Like a Lady, ...|        Steve Harvey|        4.6|   5013|   17|2009|Non Fiction|\n",
            "|Adult Coloring Bo...|Adult Coloring Bo...|        4.5|   2313|    4|2016|Non Fiction|\n",
            "|Adult Coloring Bo...|  Blue Star Coloring|        4.6|   2925|    6|2015|Non Fiction|\n",
            "|Adult Coloring Bo...|  Blue Star Coloring|        4.4|   2951|    6|2015|Non Fiction|\n",
            "|Adult Coloring Bo...|Coloring Books fo...|        4.5|   2426|    8|2015|Non Fiction|\n",
            "|  Alexander Hamilton|         Ron Chernow|        4.8|   9198|   13|2016|Non Fiction|\n",
            "+--------------------+--------------------+-----------+-------+-----+----+-----------+\n",
            "only showing top 20 rows\n",
            "\n"
          ]
        }
      ]
    },
    {
      "cell_type": "markdown",
      "source": [
        "Використовуючи тільки RDD обчислити середню ціну всіх книг, у яких рейтинг вищий за 4.7"
      ],
      "metadata": {
        "id": "EgiLADWCbn9U"
      }
    },
    {
      "cell_type": "code",
      "source": [
        "df.filter(df['User Rating'] > 4.7).agg({'Price': 'avg'}).show()"
      ],
      "metadata": {
        "colab": {
          "base_uri": "https://localhost:8080/"
        },
        "id": "T9HY3WOjK-lh",
        "outputId": "796d4ba9-a678-4e91-aa34-04e5b79cb5c7"
      },
      "execution_count": 7,
      "outputs": [
        {
          "output_type": "stream",
          "name": "stdout",
          "text": [
            "+-----------------+\n",
            "|       avg(Price)|\n",
            "+-----------------+\n",
            "|10.69832402234637|\n",
            "+-----------------+\n",
            "\n"
          ]
        }
      ]
    },
    {
      "cell_type": "markdown",
      "source": [
        "Побудувати гістограму розподілу рецензій (стовпець Reviews)."
      ],
      "metadata": {
        "id": "O2_tuOfnc_PV"
      }
    },
    {
      "cell_type": "code",
      "source": [
        "df_reviews = df['User Rating', 'Reviews'].toPandas()"
      ],
      "metadata": {
        "id": "7rek5ZvIcx5M"
      },
      "execution_count": 12,
      "outputs": []
    },
    {
      "cell_type": "code",
      "source": [
        "df_reviews.plot.hist(y='Reviews', x='User Rating')\n",
        "plt.title('Гістограма розподілу рецензій (стовпець Reviews)', fontsize=20, color='y')\n",
        "plt.show()"
      ],
      "metadata": {
        "colab": {
          "base_uri": "https://localhost:8080/",
          "height": 286
        },
        "id": "mXlVAQrDd6QO",
        "outputId": "73f074c6-2e2e-4c97-d438-d7293dfe4229"
      },
      "execution_count": 14,
      "outputs": [
        {
          "output_type": "display_data",
          "data": {
            "text/plain": [
              "<Figure size 432x288 with 1 Axes>"
            ],
            "image/png": "[encoded data removed]"
          },
          "metadata": {
            "needs_background": "light"
          }
        }
      ]
    },
    {
      "cell_type": "markdown",
      "source": [
        "Побудувати матрицю кореляції для стовпців \"User Rating\", \"Reviews\" та \"Price\"."
      ],
      "metadata": {
        "id": "jTNUzhbae27a"
      }
    },
    {
      "cell_type": "code",
      "source": [
        "matrix = df[\"User Rating\", \"Reviews\", \"Price\"].toPandas()\n",
        "correlation = matrix.corr()\n",
        "correlation"
      ],
      "metadata": {
        "colab": {
          "base_uri": "https://localhost:8080/",
          "height": 143
        },
        "id": "jBE_oy5Ee3XI",
        "outputId": "9252e572-64c6-42f8-f7aa-8b9d4922a38d"
      },
      "execution_count": 25,
      "outputs": [
        {
          "output_type": "execute_result",
          "data": {
            "text/plain": [
              "             User Rating   Reviews     Price\n",
              "User Rating     1.000000 -0.001729 -0.133086\n",
              "Reviews        -0.001729  1.000000 -0.109182\n",
              "Price          -0.133086 -0.109182  1.000000"
            ],
            "text/html": [
              "\n",
              "  <div id=\"df-0817ba8b-6131-4da6-8573-2896389b73fd\">\n",
              "    <div class=\"colab-df-container\">\n",
              "      <div>\n",
              "<style scoped>\n",
              "    .dataframe tbody tr th:only-of-type {\n",
              "        vertical-align: middle;\n",
              "    }\n",
              "\n",
              "    .dataframe tbody tr th {\n",
              "        vertical-align: top;\n",
              "    }\n",
              "\n",
              "    .dataframe thead th {\n",
              "        text-align: right;\n",
              "    }\n",
              "</style>\n",
              "<table border=\"1\" class=\"dataframe\">\n",
              "  <thead>\n",
              "    <tr style=\"text-align: right;\">\n",
              "      <th></th>\n",
              "      <th>User Rating</th>\n",
              "      <th>Reviews</th>\n",
              "      <th>Price</th>\n",
              "    </tr>\n",
              "  </thead>\n",
              "  <tbody>\n",
              "    <tr>\n",
              "      <th>User Rating</th>\n",
              "      <td>1.000000</td>\n",
              "      <td>-0.001729</td>\n",
              "      <td>-0.133086</td>\n",
              "    </tr>\n",
              "    <tr>\n",
              "      <th>Reviews</th>\n",
              "      <td>-0.001729</td>\n",
              "      <td>1.000000</td>\n",
              "      <td>-0.109182</td>\n",
              "    </tr>\n",
              "    <tr>\n",
              "      <th>Price</th>\n",
              "      <td>-0.133086</td>\n",
              "      <td>-0.109182</td>\n",
              "      <td>1.000000</td>\n",
              "    </tr>\n",
              "  </tbody>\n",
              "</table>\n",
              "</div>\n",
              "      <button class=\"colab-df-convert\" onclick=\"convertToInteractive('df-0817ba8b-6131-4da6-8573-2896389b73fd')\"\n",
              "              title=\"Convert this dataframe to an interactive table.\"\n",
              "              style=\"display:none;\">\n",
              "        \n",
              "  <svg xmlns=\"http://www.w3.org/2000/svg\" height=\"24px\"viewBox=\"0 0 24 24\"\n",
              "       width=\"24px\">\n",
              "    <path d=\"M0 0h24v24H0V0z\" fill=\"none\"/>\n",
              "    <path d=\"M18.56 5.44l.94 2.06.94-2.06 2.06-.94-2.06-.94-.94-2.06-.94 2.06-2.06.94zm-11 1L8.5 8.5l.94-2.06 2.06-.94-2.06-.94L8.5 2.5l-.94 2.06-2.06.94zm10 10l.94 2.06.94-2.06 2.06-.94-2.06-.94-.94-2.06-.94 2.06-2.06.94z\"/><path d=\"M17.41 7.96l-1.37-1.37c-.4-.4-.92-.59-1.43-.59-.52 0-1.04.2-1.43.59L10.3 9.45l-7.72 7.72c-.78.78-.78 2.05 0 2.83L4 21.41c.39.39.9.59 1.41.59.51 0 1.02-.2 1.41-.59l7.78-7.78 2.81-2.81c.8-.78.8-2.07 0-2.86zM5.41 20L4 18.59l7.72-7.72 1.47 1.35L5.41 20z\"/>\n",
              "  </svg>\n",
              "      </button>\n",
              "      \n",
              "  <style>\n",
              "    .colab-df-container {\n",
              "      display:flex;\n",
              "      flex-wrap:wrap;\n",
              "      gap: 12px;\n",
              "    }\n",
              "\n",
              "    .colab-df-convert {\n",
              "      background-color: #E8F0FE;\n",
              "      border: none;\n",
              "      border-radius: 50%;\n",
              "      cursor: pointer;\n",
              "      display: none;\n",
              "      fill: #1967D2;\n",
              "      height: 32px;\n",
              "      padding: 0 0 0 0;\n",
              "      width: 32px;\n",
              "    }\n",
              "\n",
              "    .colab-df-convert:hover {\n",
              "      background-color: #E2EBFA;\n",
              "      box-shadow: 0px 1px 2px rgba(60, 64, 67, 0.3), 0px 1px 3px 1px rgba(60, 64, 67, 0.15);\n",
              "      fill: #174EA6;\n",
              "    }\n",
              "\n",
              "    [theme=dark] .colab-df-convert {\n",
              "      background-color: #3B4455;\n",
              "      fill: #D2E3FC;\n",
              "    }\n",
              "\n",
              "    [theme=dark] .colab-df-convert:hover {\n",
              "      background-color: #434B5C;\n",
              "      box-shadow: 0px 1px 3px 1px rgba(0, 0, 0, 0.15);\n",
              "      filter: drop-shadow(0px 1px 2px rgba(0, 0, 0, 0.3));\n",
              "      fill: #FFFFFF;\n",
              "    }\n",
              "  </style>\n",
              "\n",
              "      <script>\n",
              "        const buttonEl =\n",
              "          document.querySelector('#df-0817ba8b-6131-4da6-8573-2896389b73fd button.colab-df-convert');\n",
              "        buttonEl.style.display =\n",
              "          google.colab.kernel.accessAllowed ? 'block' : 'none';\n",
              "\n",
              "        async function convertToInteractive(key) {\n",
              "          const element = document.querySelector('#df-0817ba8b-6131-4da6-8573-2896389b73fd');\n",
              "          const dataTable =\n",
              "            await google.colab.kernel.invokeFunction('convertToInteractive',\n",
              "                                                     [key], {});\n",
              "          if (!dataTable) return;\n",
              "\n",
              "          const docLinkHtml = 'Like what you see? Visit the ' +\n",
              "            '<a target=\"_blank\" href=https://colab.research.google.com/notebooks/data_table.ipynb>data table notebook</a>'\n",
              "            + ' to learn more about interactive tables.';\n",
              "          element.innerHTML = '';\n",
              "          dataTable['output_type'] = 'display_data';\n",
              "          await google.colab.output.renderOutput(dataTable, element);\n",
              "          const docLink = document.createElement('div');\n",
              "          docLink.innerHTML = docLinkHtml;\n",
              "          element.appendChild(docLink);\n",
              "        }\n",
              "      </script>\n",
              "    </div>\n",
              "  </div>\n",
              "  "
            ]
          },
          "metadata": {},
          "execution_count": 25
        }
      ]
    },
    {
      "cell_type": "markdown",
      "source": [
        "Використовуючи бібліотеку seaborn побудувати парні графіки (pairplots) стовпців \"User Rating\", \"Reviews\" та \"Price\"."
      ],
      "metadata": {
        "id": "-0_cRHnsgumZ"
      }
    },
    {
      "cell_type": "code",
      "source": [
        "sns.pairplot(matrix, diag_kind=\"hist\");"
      ],
      "metadata": {
        "colab": {
          "base_uri": "https://localhost:8080/",
          "height": 550
        },
        "id": "Z1rgZjf9fdOW",
        "outputId": "b8ccc6fe-c62d-41f3-ef52-3db31e1279c9"
      },
      "execution_count": 34,
      "outputs": [
        {
          "output_type": "display_data",
          "data": {
            "text/plain": [
              "<Figure size 540x540 with 12 Axes>"
            ],
            "image/png": "[encoded data removed]"
          },
          "metadata": {
            "needs_background": "light"
          }
        }
      ]
    },
    {
      "cell_type": "markdown",
      "source": [
        "#Завдання 2\n",
        "Під час виконання цього завдання можна використовувати лише Spark SQL. \n",
        "\n",
        "Для датасету з попереднього завдання виконайте таке:\n",
        "\n",
        "Знайдіть автора із найвищим рейтингом.\n",
        "\n",
        "Знайдіть трьох авторів із найнижчим рейтингом.\n",
        "\n",
        "Визначте, який автор отримав найбільшу кількість рецензій.\n",
        "\n",
        "Визначте, який автор написав найбільшу кількість книг за весь доступний у даних період.\n",
        "\n",
        "Визначте, яка книга жанру \"Fiction\" має найменший рейтинг.\n",
        "\n",
        "Визначте, яка книга жанру \"Non Fiction\" має найвищий рейтинг."
      ],
      "metadata": {
        "id": "V3ehF4SSi4XZ"
      }
    },
    {
      "cell_type": "code",
      "source": [
        "df_books = df\n",
        "new_names = ['name', 'author', 'rating', 'reviews', 'price', 'year', 'genre']\n",
        "for c,n in zip(df_books.columns, new_names):\n",
        "    df_books = df_books.withColumnRenamed(c,n)\n",
        "df_books.createOrReplaceTempView(\"books\")"
      ],
      "metadata": {
        "id": "Cr4S84VojI7K"
      },
      "execution_count": 85,
      "outputs": []
    },
    {
      "cell_type": "code",
      "source": [
        "spark.sql(\"SELECT DISTINCT author, rating FROM books WHERE rating == (SELECT MAX(rating) FROM books)\").show()"
      ],
      "metadata": {
        "colab": {
          "base_uri": "https://localhost:8080/"
        },
        "id": "hDbU8T7SjyLg",
        "outputId": "b19461f6-86ed-40f6-b513-1b82792f6114"
      },
      "execution_count": 68,
      "outputs": [
        {
          "output_type": "stream",
          "name": "stdout",
          "text": [
            "+--------------------+------+\n",
            "|              author|rating|\n",
            "+--------------------+------+\n",
            "|Emily Winfield Ma...|   4.9|\n",
            "|     Bill Martin Jr.|   4.9|\n",
            "|          Eric Carle|   4.9|\n",
            "|          Pete Souza|   4.9|\n",
            "|      Nathan W. Pyle|   4.9|\n",
            "|         Jeff Kinney|   4.9|\n",
            "|     Brandon Stanton|   4.9|\n",
            "|        J.K. Rowling|   4.9|\n",
            "|         Chip Gaines|   4.9|\n",
            "|           Dr. Seuss|   4.9|\n",
            "|      Alice Schertle|   4.9|\n",
            "|       Rush Limbaugh|   4.9|\n",
            "|          Dav Pilkey|   4.9|\n",
            "|       J. K. Rowling|   4.9|\n",
            "|      Patrick Thorpe|   4.9|\n",
            "|       Mark R. Levin|   4.9|\n",
            "|Sherri Duskey Rinker|   4.9|\n",
            "|          Jill Twiss|   4.9|\n",
            "|         Sarah Young|   4.9|\n",
            "|  Lin-Manuel Miranda|   4.9|\n",
            "+--------------------+------+\n",
            "\n"
          ]
        }
      ]
    },
    {
      "cell_type": "markdown",
      "source": [
        "Знайдіть трьох авторів із найнижчим рейтингом."
      ],
      "metadata": {
        "id": "CcNmGV9ktL0K"
      }
    },
    {
      "cell_type": "code",
      "source": [
        "spark.sql(\"SELECT DISTINCT author, rating FROM books ORDER BY rating LIMIT 3\").show()"
      ],
      "metadata": {
        "colab": {
          "base_uri": "https://localhost:8080/"
        },
        "id": "ADx4F8T8tMY_",
        "outputId": "7ebc10bf-8681-4d2e-a04d-1e575149c213"
      },
      "execution_count": 72,
      "outputs": [
        {
          "output_type": "stream",
          "name": "stdout",
          "text": [
            "+------------+------+\n",
            "|      author|rating|\n",
            "+------------+------+\n",
            "|J.K. Rowling|   3.3|\n",
            "|  Harper Lee|   3.6|\n",
            "|   E L James|   3.8|\n",
            "+------------+------+\n",
            "\n"
          ]
        }
      ]
    },
    {
      "cell_type": "markdown",
      "source": [
        "Визначте, який автор отримав найбільшу кількість рецензій."
      ],
      "metadata": {
        "id": "xngT98Intu6U"
      }
    },
    {
      "cell_type": "code",
      "source": [
        "spark.sql(\"SELECT DISTINCT author, reviews FROM books ORDER BY reviews DESC LIMIT 1\").show()"
      ],
      "metadata": {
        "colab": {
          "base_uri": "https://localhost:8080/"
        },
        "id": "VUVe43HvtvjD",
        "outputId": "73a7abeb-2bf9-4b33-e2f1-dd0473c99f35"
      },
      "execution_count": 74,
      "outputs": [
        {
          "output_type": "stream",
          "name": "stdout",
          "text": [
            "+-----------+-------+\n",
            "|     author|reviews|\n",
            "+-----------+-------+\n",
            "|Delia Owens|  87841|\n",
            "+-----------+-------+\n",
            "\n"
          ]
        }
      ]
    },
    {
      "cell_type": "markdown",
      "source": [
        "Визначте, який автор написав найбільшу кількість книг за весь доступний у даних період."
      ],
      "metadata": {
        "id": "AJnY6ilauUDR"
      }
    },
    {
      "cell_type": "code",
      "source": [
        "spark.sql(\"SELECT author, toms FROM (SELECT author, COUNT(author) as toms FROM books GROUP BY author) ORDER BY toms DESC LIMIT 1\").show()"
      ],
      "metadata": {
        "colab": {
          "base_uri": "https://localhost:8080/"
        },
        "id": "mhwkNTZPuNeM",
        "outputId": "0bb195de-2e13-417a-d469-16c5b9cbd91d"
      },
      "execution_count": 76,
      "outputs": [
        {
          "output_type": "stream",
          "name": "stdout",
          "text": [
            "+-----------+----+\n",
            "|     author|toms|\n",
            "+-----------+----+\n",
            "|Jeff Kinney|  12|\n",
            "+-----------+----+\n",
            "\n"
          ]
        }
      ]
    },
    {
      "cell_type": "markdown",
      "source": [
        "Визначте, яка книга жанру \"Fiction\" має найменший рейтинг."
      ],
      "metadata": {
        "id": "Bc4vNunEvT4J"
      }
    },
    {
      "cell_type": "code",
      "source": [
        "\n",
        "spark.sql(\"SELECT name, genre, rating FROM books WHERE genre == 'Fiction' ORDER BY rating LIMIT 1\").show()"
      ],
      "metadata": {
        "colab": {
          "base_uri": "https://localhost:8080/"
        },
        "id": "RjruJH_OuOGm",
        "outputId": "5caf6654-e5f3-43c0-fb3f-9a797c5eb9ac"
      },
      "execution_count": 77,
      "outputs": [
        {
          "output_type": "stream",
          "name": "stdout",
          "text": [
            "+------------------+-------+------+\n",
            "|              name|  genre|rating|\n",
            "+------------------+-------+------+\n",
            "|The Casual Vacancy|Fiction|   3.3|\n",
            "+------------------+-------+------+\n",
            "\n"
          ]
        }
      ]
    },
    {
      "cell_type": "markdown",
      "source": [
        "Визначте, яка книга жанру \"Non Fiction\" має найвищий рейтинг."
      ],
      "metadata": {
        "id": "Utiaw2WCw1Ag"
      }
    },
    {
      "cell_type": "code",
      "source": [
        "spark.sql(\"SELECT name, genre, rating FROM books WHERE genre == 'Non Fiction' ORDER BY rating DESC LIMIT 1\").show()"
      ],
      "metadata": {
        "colab": {
          "base_uri": "https://localhost:8080/"
        },
        "id": "JRKqIudzwxWS",
        "outputId": "5fc9e1bd-6d91-4f64-d3ad-e8003938e62e"
      },
      "execution_count": 78,
      "outputs": [
        {
          "output_type": "stream",
          "name": "stdout",
          "text": [
            "+--------------------+-----------+------+\n",
            "|                name|      genre|rating|\n",
            "+--------------------+-----------+------+\n",
            "|Hamilton: The Rev...|Non Fiction|   4.9|\n",
            "+--------------------+-----------+------+\n",
            "\n"
          ]
        }
      ]
    },
    {
      "cell_type": "markdown",
      "source": [
        "#Завдання 3\n",
        "Побудуйте гістограму середньої кількості рецензій за роками. \n",
        "\n"
      ],
      "metadata": {
        "id": "ZQXTNoDcxJqA"
      }
    },
    {
      "cell_type": "code",
      "source": [
        "df_gist = df_books.groupBy('year').agg({'reviews': 'avg'}).toPandas()"
      ],
      "metadata": {
        "id": "Dcd2kUqOxOGL"
      },
      "execution_count": 86,
      "outputs": []
    },
    {
      "cell_type": "code",
      "source": [
        "plt.rcParams[\"figure.figsize\"] = (16, 10)\n",
        "plt.bar(df_gist['year'], df_gist['avg(reviews)'])\n",
        "plt.title('Гістограма середньої кількості рецензій за роками', fontsize=20, color='r')\n",
        "plt.show()"
      ],
      "metadata": {
        "colab": {
          "base_uri": "https://localhost:8080/",
          "height": 612
        },
        "id": "Y5VFU0A6xjVz",
        "outputId": "4bd8eab2-04b2-4e42-a3c3-b8af1cc9b8bb"
      },
      "execution_count": 87,
      "outputs": [
        {
          "output_type": "display_data",
          "data": {
            "text/plain": [
              "<Figure size 1152x720 with 1 Axes>"
            ],
            "image/png": "[encoded data removed]"
          },
          "metadata": {
            "needs_background": "light"
          }
        }
      ]
    },
    {
      "cell_type": "markdown",
      "source": [
        "У вигляді окремої гістограми візуалізуйте кількість книг жанру \"Fiction\" та \"Non Fiction\" за весь доступний період."
      ],
      "metadata": {
        "id": "m_Xy6NK0zLbk"
      }
    },
    {
      "cell_type": "code",
      "source": [
        "df_visual = df_books.groupby([\"year\", \"genre\"]).count().toPandas()"
      ],
      "metadata": {
        "id": "EVaReMTBzL5w"
      },
      "execution_count": 88,
      "outputs": []
    },
    {
      "cell_type": "code",
      "source": [
        "plt.rcParams[\"figure.figsize\"] = (16, 10)\n",
        "sns.barplot(x=\"year\", y=\"count\", hue=\"genre\", data=df_visual)\n",
        "plt.title('Кількість книг жанру \"Fiction\" та \"Non Fiction\" за весь доступний період', fontsize=20, color='g')\n",
        "plt.show()"
      ],
      "metadata": {
        "colab": {
          "base_uri": "https://localhost:8080/",
          "height": 627
        },
        "id": "j7AOcwIjzRvB",
        "outputId": "25745295-0305-4a78-e9dc-83dfb8815901"
      },
      "execution_count": 89,
      "outputs": [
        {
          "output_type": "display_data",
          "data": {
            "text/plain": [
              "<Figure size 1152x720 with 1 Axes>"
            ],
            "image/png": "[encoded data removed]"
          },
          "metadata": {
            "needs_background": "light"
          }
        }
      ]
    }
  ]
}