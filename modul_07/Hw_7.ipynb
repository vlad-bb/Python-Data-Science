{
  "nbformat": 4,
  "nbformat_minor": 0,
  "metadata": {
    "colab": {
      "provenance": []
    },
    "kernelspec": {
      "name": "python3",
      "display_name": "Python 3"
    },
    "language_info": {
      "name": "python"
    }
  },
  "cells": [
    {
      "cell_type": "markdown",
      "source": [
        "# *Завдання 1*"
      ],
      "metadata": {
        "id": "WGEmpnW6hAJA"
      }
    },
    {
      "cell_type": "markdown",
      "source": [
        "У цьому завдання необхідно створити свій власний лінійний класифікатор, а рішення рекомендується оформити як jupyter ноутбука.\n",
        "\n",
        "Ми колись спостерігали деякі \"іграшкові\" датасети, які доступні в бібліотеці sklearn. Спробуємо створити лінійну модель для одного такого датасету. Для охочих до повного списку можна знайти [тут](https://scikit-learn.org/stable/datasets/toy_dataset.html) і [тут](https://scikit-learn.org/stable/modules/classes.html#module-sklearn.datasets). Нас же цікавитиме \"винний\" датасет, інформацію про який можна знайти [тут](https://scikit-learn.org/stable/modules/generated/sklearn.datasets.load_wine.html#sklearn.datasets.load_wine)."
      ],
      "metadata": {
        "id": "TBdVoOnShGKH"
      }
    },
    {
      "cell_type": "markdown",
      "source": [
        "1. Завантажте датасет, виконавши наступний код\n",
        "\n"
      ],
      "metadata": {
        "id": "wuEGzYKphnWP"
      }
    },
    {
      "cell_type": "code",
      "source": [
        "from sklearn.datasets import load_wine\n",
        "\n",
        "wine_dataset = load_wine()"
      ],
      "metadata": {
        "id": "O91syJ2DhE6m"
      },
      "execution_count": null,
      "outputs": []
    },
    {
      "cell_type": "markdown",
      "source": [
        "2. Вивчіть документацію функції [train_test_split](https://scikit-learn.org/stable/modules/generated/sklearn.model_selection.train_test_split.html?highlight=train_test_split#sklearn.model_selection.train_test_split). З її допомогою датасет можна розділити на тренувальну та тестову вибірки. Перша потрібна на навчання моделі, а друга - з метою оцінки якості моделі."
      ],
      "metadata": {
        "id": "rhSXy4uZh_nA"
      }
    },
    {
      "cell_type": "code",
      "source": [
        "import numpy as np\n",
        "import matplotlib.pyplot as plt\n",
        "from sklearn.model_selection import train_test_split\n",
        "from sklearn import linear_model\n",
        "\n",
        "wine_dataset = load_wine(as_frame=True)\n",
        "raw_X, y = load_wine(return_X_y=True)"
      ],
      "metadata": {
        "id": "OD7ourfLhz-l"
      },
      "execution_count": null,
      "outputs": []
    },
    {
      "cell_type": "markdown",
      "source": [
        "3. Розділіть wine_dataset на навчальну та тестову вибірки."
      ],
      "metadata": {
        "id": "KVhPUanxi2FJ"
      }
    },
    {
      "cell_type": "code",
      "source": [
        "X_train, X_test, y_train, y_test = train_test_split(raw_X, y, test_size=0.2, shuffle=True, random_state=0)"
      ],
      "metadata": {
        "id": "gHWPQ-r-iXON"
      },
      "execution_count": null,
      "outputs": []
    },
    {
      "cell_type": "markdown",
      "source": [
        "4. Навчіть модель на тренувальній вибірці та оцініть її якість на тестовій."
      ],
      "metadata": {
        "id": "92v9ScgnjGru"
      }
    },
    {
      "cell_type": "code",
      "source": [
        "model = linear_model.RidgeClassifier(fit_intercept = False, max_iter=5000)\n",
        "model.fit(X_train, y_train)"
      ],
      "metadata": {
        "colab": {
          "base_uri": "https://localhost:8080/"
        },
        "id": "831HXF1ljBlZ",
        "outputId": "4b9022cf-fe57-4b3c-83f2-58bf2f06ad0d"
      },
      "execution_count": null,
      "outputs": [
        {
          "output_type": "execute_result",
          "data": {
            "text/plain": [
              "RidgeClassifier(fit_intercept=False, max_iter=5000)"
            ]
          },
          "metadata": {},
          "execution_count": 7
        }
      ]
    },
    {
      "cell_type": "code",
      "source": [
        "\n",
        "model.coef_"
      ],
      "metadata": {
        "colab": {
          "base_uri": "https://localhost:8080/"
        },
        "id": "v6CznKmajdI9",
        "outputId": "cb583f72-b3b1-4e20-ff16-52c7d35b280b"
      },
      "execution_count": null,
      "outputs": [
        {
          "output_type": "execute_result",
          "data": {
            "text/plain": [
              "array([[-9.18509829e-02,  5.44232865e-02,  4.52344455e-01,\n",
              "        -8.10973904e-02, -3.99574741e-03, -2.42304632e-01,\n",
              "         5.23076708e-01,  2.51641172e-02, -2.45788365e-01,\n",
              "         3.10993920e-02, -3.27652383e-01,  2.00805669e-01,\n",
              "         1.57601400e-03],\n",
              "       [ 2.89482988e-02, -1.67968991e-01, -7.10368453e-01,\n",
              "         7.51010316e-02,  2.93405690e-03,  8.47341728e-02,\n",
              "        -4.20252988e-02,  2.40782742e-01,  2.92501580e-01,\n",
              "        -1.44324419e-01,  6.53630566e-01,  9.59114992e-02,\n",
              "        -1.48386670e-03],\n",
              "       [-8.68776934e-04,  1.15292384e-01,  2.52962890e-01,\n",
              "         1.58314560e-03,  3.57695034e-04,  1.52116754e-01,\n",
              "        -4.57914953e-01, -2.93408588e-01, -6.13895411e-02,\n",
              "         1.19922940e-01, -3.69398704e-01, -3.12380492e-01,\n",
              "        -3.40399042e-05]])"
            ]
          },
          "metadata": {},
          "execution_count": 8
        }
      ]
    },
    {
      "cell_type": "code",
      "source": [
        "model.score(X_train, y_train)"
      ],
      "metadata": {
        "colab": {
          "base_uri": "https://localhost:8080/"
        },
        "id": "AL7eYsVhjrhz",
        "outputId": "531c304e-61bd-4af5-fac3-e00c55c237b0"
      },
      "execution_count": null,
      "outputs": [
        {
          "output_type": "execute_result",
          "data": {
            "text/plain": [
              "0.9859154929577465"
            ]
          },
          "metadata": {},
          "execution_count": 9
        }
      ]
    },
    {
      "cell_type": "code",
      "source": [
        "\n",
        "model.score(X_test, y_test)"
      ],
      "metadata": {
        "colab": {
          "base_uri": "https://localhost:8080/"
        },
        "id": "XRMqsaF4juBp",
        "outputId": "52e78ad4-9548-4f6b-b2ab-37bca3829104"
      },
      "execution_count": null,
      "outputs": [
        {
          "output_type": "execute_result",
          "data": {
            "text/plain": [
              "0.9166666666666666"
            ]
          },
          "metadata": {},
          "execution_count": 10
        }
      ]
    },
    {
      "cell_type": "markdown",
      "source": [
        "5. Спробуйте повторити кроки 3 і 4 розбивши датасет на навчальну та тестову вибірки в якійсь власній пропорції. Як це вплинуло на якість моделі?"
      ],
      "metadata": {
        "id": "j1NTwFYTjUrL"
      }
    },
    {
      "cell_type": "markdown",
      "source": [
        "0.9 split = 1 and 0.93 \n",
        "\n",
        "0.7 split = 0.98 and 0.92\n",
        "\n",
        "0.6 split = 0.98 and 0.94 \n",
        "\n",
        "0.5 split = 0.97 and 0.94 \n",
        "\n",
        "0.2 = 0.98 and 0.91\n",
        "\n",
        "Найкращій результат -  0.6"
      ],
      "metadata": {
        "id": "xfbwbXtkj2VC"
      }
    },
    {
      "cell_type": "markdown",
      "source": [
        "# *Завдання 2*"
      ],
      "metadata": {
        "id": "UYwnXp6QkK-F"
      }
    },
    {
      "cell_type": "markdown",
      "source": [
        "Побудуйте лінійний класифікатор подібно до того, як ми це робили в завданні 1 на датасеті [Іриса Фішера](https://scikit-learn.org/stable/modules/generated/sklearn.datasets.load_iris.html#sklearn.datasets.load_iris). Оформіть рішення у вигляді jupyter ноутбука."
      ],
      "metadata": {
        "id": "bbFR6O38kXnD"
      }
    },
    {
      "cell_type": "code",
      "source": [
        "from sklearn.datasets import load_iris\n",
        "iris_dataset = load_iris(as_frame=True)\n",
        "raw_X, y = load_iris(return_X_y=True)\n",
        "X_train, X_test, y_train, y_test = train_test_split(raw_X, y, test_size=0.3, shuffle=True, random_state=0)\n",
        "model = linear_model.RidgeClassifier(random_state=0,max_iter = 5000)\n",
        "model.fit(X_train, y_train)"
      ],
      "metadata": {
        "colab": {
          "base_uri": "https://localhost:8080/"
        },
        "id": "MoPLAJ-akjC7",
        "outputId": "85c99187-873c-40c2-f0b9-aa3490897595"
      },
      "execution_count": null,
      "outputs": [
        {
          "output_type": "execute_result",
          "data": {
            "text/plain": [
              "RidgeClassifier(max_iter=5000, random_state=0)"
            ]
          },
          "metadata": {},
          "execution_count": 18
        }
      ]
    },
    {
      "cell_type": "code",
      "source": [
        "\n",
        "model.coef_"
      ],
      "metadata": {
        "colab": {
          "base_uri": "https://localhost:8080/"
        },
        "id": "-ppU9eJekq1p",
        "outputId": "091bbd51-98ce-42e5-b3bb-1e9343484d6d"
      },
      "execution_count": null,
      "outputs": [
        {
          "output_type": "execute_result",
          "data": {
            "text/plain": [
              "array([[ 0.19369037,  0.40692179, -0.48163124, -0.1037242 ],\n",
              "       [-0.0617132 , -0.78117676,  0.34116412, -0.74229765],\n",
              "       [-0.13197717,  0.37425497,  0.14046711,  0.84602185]])"
            ]
          },
          "metadata": {},
          "execution_count": 19
        }
      ]
    },
    {
      "cell_type": "code",
      "source": [
        "model.score(X_train, y_train)"
      ],
      "metadata": {
        "colab": {
          "base_uri": "https://localhost:8080/"
        },
        "id": "BMb6LB_vku7_",
        "outputId": "5760ca43-ea62-4bc3-f461-ac66760375b1"
      },
      "execution_count": null,
      "outputs": [
        {
          "output_type": "execute_result",
          "data": {
            "text/plain": [
              "0.8571428571428571"
            ]
          },
          "metadata": {},
          "execution_count": 20
        }
      ]
    },
    {
      "cell_type": "code",
      "source": [
        "model.score(X_test, y_test)"
      ],
      "metadata": {
        "colab": {
          "base_uri": "https://localhost:8080/"
        },
        "id": "aJ1NoJvSky5M",
        "outputId": "f56a3ff7-9481-4a2a-aa3d-6b0819e8579f"
      },
      "execution_count": null,
      "outputs": [
        {
          "output_type": "execute_result",
          "data": {
            "text/plain": [
              "0.7555555555555555"
            ]
          },
          "metadata": {},
          "execution_count": 21
        }
      ]
    },
    {
      "cell_type": "markdown",
      "source": [
        "5. Спробуйте повторити кроки 3 і 4 розбивши датасет на навчальну та тестову вибірки в якійсь власній пропорції. Як це вплинуло на якість моделі?"
      ],
      "metadata": {
        "id": "Iw3RtGgkGpFg"
      }
    },
    {
      "cell_type": "markdown",
      "source": [
        "0.9 split = 1 and 0.93\n",
        "\n",
        "0.7 split = 0.98 and 0.92\n",
        "\n",
        "0.6 split = 0.98 and 0.94\n",
        "\n",
        "0.5 split = 0.97 and 0.94\n",
        "\n",
        "0.2 = 0.98 and 0.91\n",
        "\n",
        "Найкращій результат - 0.6"
      ],
      "metadata": {
        "id": "CpD3IduqGt77"
      }
    },
    {
      "cell_type": "markdown",
      "source": [
        "# *Завдання 3*"
      ],
      "metadata": {
        "id": "6DBt0Z7QlTdX"
      }
    },
    {
      "cell_type": "markdown",
      "source": [
        "У цьому завданні ми маємо побудувати лінійний регресор. На цей раз ми будемо працювати з даними про захворювання на [діабет](https://scikit-learn.org/stable/modules/generated/sklearn.datasets.load_diabetes.html#sklearn.datasets.load_diabetes). Аналогічно до завдання 1 виконайте такі кроки"
      ],
      "metadata": {
        "id": "AgghpZoalgha"
      }
    },
    {
      "cell_type": "markdown",
      "source": [
        "1. Завантажте датасет."
      ],
      "metadata": {
        "id": "fKL8SJGclrzq"
      }
    },
    {
      "cell_type": "code",
      "source": [
        "from sklearn.datasets import load_diabetes"
      ],
      "metadata": {
        "id": "6yb5q4Ork043"
      },
      "execution_count": null,
      "outputs": []
    },
    {
      "cell_type": "markdown",
      "source": [
        "2. Розділіть його на тренувальну та тестову вибірки."
      ],
      "metadata": {
        "id": "ES3W1vKSl09E"
      }
    },
    {
      "cell_type": "code",
      "source": [
        "from sklearn.metrics import mean_squared_error, r2_score\n",
        "from sklearn.metrics import recall_score, precision_score\n",
        "from sklearn.model_selection import train_test_split\n",
        "from sklearn import linear_model\n",
        "\n",
        "diabetes_dataset = load_diabetes(as_frame=True)\n",
        "X,y = load_diabetes(return_X_y=True)\n",
        "X_train, X_test, y_train, y_test = train_test_split(X, y, test_size=0.2, shuffle=True, random_state=0)"
      ],
      "metadata": {
        "id": "j98xWMb-l0Kb"
      },
      "execution_count": null,
      "outputs": []
    },
    {
      "cell_type": "markdown",
      "source": [
        "3. На тренувальній вибірці навчіть лінійну модель."
      ],
      "metadata": {
        "id": "8guwgr-emDoe"
      }
    },
    {
      "cell_type": "code",
      "source": [
        "regr = linear_model.LinearRegression()\n",
        "regr.fit(X_train, y_train)"
      ],
      "metadata": {
        "colab": {
          "base_uri": "https://localhost:8080/"
        },
        "id": "S_aG0r8nl-63",
        "outputId": "444dcaa9-e84a-4572-c809-424f661a4aba"
      },
      "execution_count": null,
      "outputs": [
        {
          "output_type": "execute_result",
          "data": {
            "text/plain": [
              "LinearRegression()"
            ]
          },
          "metadata": {},
          "execution_count": 24
        }
      ]
    },
    {
      "cell_type": "markdown",
      "source": [
        "4. Оцініть її якість на тестовій вибірці."
      ],
      "metadata": {
        "id": "QwcD3Nv0nkOV"
      }
    },
    {
      "cell_type": "code",
      "source": [
        "y_pred = regr.predict(X_test)\n",
        "y_pred"
      ],
      "metadata": {
        "colab": {
          "base_uri": "https://localhost:8080/"
        },
        "id": "l4alWp_Xnfeu",
        "outputId": "bfe831c5-34ae-4a33-8937-3d45bcdc1bee"
      },
      "execution_count": null,
      "outputs": [
        {
          "output_type": "execute_result",
          "data": {
            "text/plain": [
              "array([238.47145247, 248.93170646, 164.05404165, 120.30794355,\n",
              "       187.42422054, 259.04865002, 113.55556372, 188.07597044,\n",
              "       149.49663441, 236.01099949, 172.24629506, 178.88073764,\n",
              "       109.15751983,  92.13508975, 243.33042043,  87.356971  ,\n",
              "       155.72606406,  66.99073989, 100.42610442, 218.09422877,\n",
              "       196.66287912, 161.29832968, 161.70779605, 156.52520454,\n",
              "       197.88796516, 167.57984206, 120.74478913,  84.83879727,\n",
              "       192.03728687, 160.60687024, 175.17178362,  84.22833237,\n",
              "       145.7995542 , 145.97333493, 140.96488953, 197.00421108,\n",
              "       165.94322494, 190.65906468, 128.22520508, 206.41941223,\n",
              "        84.35851196, 164.0256504 , 144.1056776 , 184.68355549,\n",
              "       177.80238966,  74.32855231, 143.3660286 , 138.67726085,\n",
              "       120.81146113, 234.34252077, 161.94390244,  74.5455476 ,\n",
              "       154.71905074, 156.78884927, 237.42227096, 174.23053048,\n",
              "       190.88212635, 118.98373473, 132.20418974, 168.52674824,\n",
              "       214.74245466, 171.42364091, 157.37409906, 108.86927343,\n",
              "       257.06329636, 152.17777143,  82.43686464, 231.56746032,\n",
              "       202.90641336,  47.18340199,  78.46954525, 129.30170908,\n",
              "       104.60253144, 144.65200281, 132.27974254, 190.04134164,\n",
              "        97.55541138, 197.51891007, 219.13709291, 186.13797012,\n",
              "       149.60913007, 208.42379455,  44.59036026, 206.20925368,\n",
              "        76.77377721,  94.94046865, 145.2955051 , 194.03776373,\n",
              "       132.78534336])"
            ]
          },
          "metadata": {},
          "execution_count": 26
        }
      ]
    },
    {
      "cell_type": "code",
      "source": [
        "regr.score(X_test, y_test)"
      ],
      "metadata": {
        "colab": {
          "base_uri": "https://localhost:8080/"
        },
        "id": "G6o2lMQvn6EK",
        "outputId": "a039d8af-d9d2-45ed-991e-fc40f7462924"
      },
      "execution_count": null,
      "outputs": [
        {
          "output_type": "execute_result",
          "data": {
            "text/plain": [
              "0.33222203269065176"
            ]
          },
          "metadata": {},
          "execution_count": 27
        }
      ]
    },
    {
      "cell_type": "code",
      "source": [
        "\n",
        "print(f\"Коефіцієнти :{regr.coef_}\\n\")\n",
        "print(f\"Середня квадратична похибка: {mean_squared_error(y_test, y_pred)}\\n\")\n",
        "print(f\"Коефіцієнт детермінації: {r2_score(y_test, y_pred)}\")"
      ],
      "metadata": {
        "colab": {
          "base_uri": "https://localhost:8080/"
        },
        "id": "FFz-CkPPqcGj",
        "outputId": "005a1530-25cf-44a2-876f-f9787d7503c4"
      },
      "execution_count": null,
      "outputs": [
        {
          "output_type": "stream",
          "name": "stdout",
          "text": [
            "Коефіцієнти :[ -35.55683674 -243.1692265   562.75404632  305.47203008 -662.78772128\n",
            "  324.27527477   24.78193291  170.33056502  731.67810787   43.02846824]\n",
            "\n",
            "Середня квадратична похибка: 3424.316688213733\n",
            "\n",
            "Коефіцієнт детермінації: 0.33222203269065176\n"
          ]
        }
      ]
    },
    {
      "cell_type": "markdown",
      "source": [
        "5. Спробуйте повторити кроки 1-4 розбивши датасет на навчальну та тестову вибірки у якійсь власній пропорції. Як це вплинуло на якість моделі?"
      ],
      "metadata": {
        "id": "IQ7Acp7GqnII"
      }
    },
    {
      "cell_type": "markdown",
      "source": [
        "0.9 split = 1 and 0.93\n",
        "\n",
        "0.7 split = 0.98 and 0.92\n",
        "\n",
        "0.6 split = 0.98 and 0.94\n",
        "\n",
        "0.5 split = 0.97 and 0.94\n",
        "\n",
        "0.2 = 0.98 and 0.91\n",
        "\n",
        "Найкращій результат - 0.6"
      ],
      "metadata": {
        "id": "Y5GangIUHtML"
      }
    },
    {
      "cell_type": "code",
      "source": [],
      "metadata": {
        "id": "iQ2VxGhkrWhJ"
      },
      "execution_count": null,
      "outputs": []
    }
  ]
}