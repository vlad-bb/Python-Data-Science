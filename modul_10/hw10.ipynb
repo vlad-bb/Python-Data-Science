{
  "nbformat": 4,
  "nbformat_minor": 0,
  "metadata": {
    "colab": {
      "provenance": []
    },
    "kernelspec": {
      "name": "python3",
      "display_name": "Python 3"
    },
    "language_info": {
      "name": "python"
    },
    "accelerator": "GPU",
    "gpuClass": "standard"
  },
  "cells": [
    {
      "cell_type": "code",
      "source": [
        "import matplotlib.pyplot as plt\n",
        "\n",
        "from keras.datasets import fashion_mnist\n",
        "\n",
        "from keras.optimizers import Adam, RMSprop\n",
        "\n",
        "from keras.models import Sequential\n",
        "from keras.layers import Dense, Flatten, Conv2D, MaxPooling2D\n",
        "from keras import optimizers\n",
        "from keras import losses\n",
        "from keras import metrics"
      ],
      "metadata": {
        "id": "JzJGZhVAgKd9"
      },
      "execution_count": 1,
      "outputs": []
    },
    {
      "cell_type": "code",
      "execution_count": 2,
      "metadata": {
        "colab": {
          "base_uri": "https://localhost:8080/"
        },
        "id": "bneMnzx4erNU",
        "outputId": "df6abd9c-4ab7-4153-c4f2-2cb6ec41278f"
      },
      "outputs": [
        {
          "output_type": "stream",
          "name": "stdout",
          "text": [
            "Downloading data from https://storage.googleapis.com/tensorflow/tf-keras-datasets/train-labels-idx1-ubyte.gz\n",
            "29515/29515 [==============================] - 0s 0us/step\n",
            "Downloading data from https://storage.googleapis.com/tensorflow/tf-keras-datasets/train-images-idx3-ubyte.gz\n",
            "26421880/26421880 [==============================] - 0s 0us/step\n",
            "Downloading data from https://storage.googleapis.com/tensorflow/tf-keras-datasets/t10k-labels-idx1-ubyte.gz\n",
            "5148/5148 [==============================] - 0s 0us/step\n",
            "Downloading data from https://storage.googleapis.com/tensorflow/tf-keras-datasets/t10k-images-idx3-ubyte.gz\n",
            "4422102/4422102 [==============================] - 0s 0us/step\n",
            "Epoch 1/22\n",
            "70/70 [==============================] - 23s 102ms/step - loss: 2.3372 - sparse_categorical_accuracy: 0.6705 - val_loss: 0.4169 - val_sparse_categorical_accuracy: 0.8501\n",
            "Epoch 2/22\n",
            "70/70 [==============================] - 6s 90ms/step - loss: 0.4155 - sparse_categorical_accuracy: 0.8526 - val_loss: 0.3392 - val_sparse_categorical_accuracy: 0.8762\n",
            "Epoch 3/22\n",
            "70/70 [==============================] - 6s 88ms/step - loss: 0.3426 - sparse_categorical_accuracy: 0.8789 - val_loss: 0.2949 - val_sparse_categorical_accuracy: 0.8937\n",
            "Epoch 4/22\n",
            "70/70 [==============================] - 6s 88ms/step - loss: 0.3049 - sparse_categorical_accuracy: 0.8917 - val_loss: 0.2735 - val_sparse_categorical_accuracy: 0.9005\n",
            "Epoch 5/22\n",
            "70/70 [==============================] - 6s 86ms/step - loss: 0.2691 - sparse_categorical_accuracy: 0.9018 - val_loss: 0.2593 - val_sparse_categorical_accuracy: 0.9046\n",
            "Epoch 6/22\n",
            "70/70 [==============================] - 6s 92ms/step - loss: 0.2432 - sparse_categorical_accuracy: 0.9111 - val_loss: 0.2420 - val_sparse_categorical_accuracy: 0.9119\n",
            "Epoch 7/22\n",
            "70/70 [==============================] - 6s 90ms/step - loss: 0.2235 - sparse_categorical_accuracy: 0.9169 - val_loss: 0.2640 - val_sparse_categorical_accuracy: 0.9077\n",
            "Epoch 8/22\n",
            "70/70 [==============================] - 5s 78ms/step - loss: 0.2137 - sparse_categorical_accuracy: 0.9222 - val_loss: 0.2387 - val_sparse_categorical_accuracy: 0.9153\n",
            "Epoch 9/22\n",
            "70/70 [==============================] - 6s 86ms/step - loss: 0.1988 - sparse_categorical_accuracy: 0.9263 - val_loss: 0.2418 - val_sparse_categorical_accuracy: 0.9129\n",
            "Epoch 10/22\n",
            "70/70 [==============================] - 5s 78ms/step - loss: 0.1800 - sparse_categorical_accuracy: 0.9337 - val_loss: 0.2429 - val_sparse_categorical_accuracy: 0.9133\n",
            "Epoch 11/22\n",
            "70/70 [==============================] - 6s 88ms/step - loss: 0.1647 - sparse_categorical_accuracy: 0.9384 - val_loss: 0.2526 - val_sparse_categorical_accuracy: 0.9173\n",
            "Epoch 12/22\n",
            "70/70 [==============================] - 6s 87ms/step - loss: 0.1538 - sparse_categorical_accuracy: 0.9412 - val_loss: 0.2395 - val_sparse_categorical_accuracy: 0.9188\n",
            "Epoch 13/22\n",
            "70/70 [==============================] - 6s 87ms/step - loss: 0.1433 - sparse_categorical_accuracy: 0.9458 - val_loss: 0.2506 - val_sparse_categorical_accuracy: 0.9188\n",
            "Epoch 14/22\n",
            "70/70 [==============================] - 6s 87ms/step - loss: 0.1289 - sparse_categorical_accuracy: 0.9513 - val_loss: 0.2533 - val_sparse_categorical_accuracy: 0.9181\n",
            "Epoch 15/22\n",
            "70/70 [==============================] - 6s 88ms/step - loss: 0.1245 - sparse_categorical_accuracy: 0.9524 - val_loss: 0.2502 - val_sparse_categorical_accuracy: 0.9197\n",
            "Epoch 16/22\n",
            "70/70 [==============================] - 5s 77ms/step - loss: 0.1105 - sparse_categorical_accuracy: 0.9581 - val_loss: 0.2669 - val_sparse_categorical_accuracy: 0.9161\n",
            "Epoch 17/22\n",
            "70/70 [==============================] - 6s 88ms/step - loss: 0.1069 - sparse_categorical_accuracy: 0.9594 - val_loss: 0.2640 - val_sparse_categorical_accuracy: 0.9198\n",
            "Epoch 18/22\n",
            "70/70 [==============================] - 6s 84ms/step - loss: 0.0945 - sparse_categorical_accuracy: 0.9640 - val_loss: 0.2865 - val_sparse_categorical_accuracy: 0.9180\n",
            "Epoch 19/22\n",
            "70/70 [==============================] - 6s 88ms/step - loss: 0.0883 - sparse_categorical_accuracy: 0.9667 - val_loss: 0.2735 - val_sparse_categorical_accuracy: 0.9177\n",
            "Epoch 20/22\n",
            "70/70 [==============================] - 5s 77ms/step - loss: 0.0901 - sparse_categorical_accuracy: 0.9664 - val_loss: 0.3047 - val_sparse_categorical_accuracy: 0.9161\n",
            "Epoch 21/22\n",
            "70/70 [==============================] - 6s 82ms/step - loss: 0.0778 - sparse_categorical_accuracy: 0.9704 - val_loss: 0.3029 - val_sparse_categorical_accuracy: 0.9185\n",
            "Epoch 22/22\n",
            "70/70 [==============================] - 6s 89ms/step - loss: 0.0679 - sparse_categorical_accuracy: 0.9741 - val_loss: 0.3205 - val_sparse_categorical_accuracy: 0.9192\n"
          ]
        }
      ],
      "source": [
        "from keras.layers.regularization.dropout import Dropout\n",
        "from keras.backend import dropout\n",
        "import numpy as np\n",
        "import tensorflow as tf\n",
        "from tensorflow import keras\n",
        "\n",
        "# Завантаження набору даних Fashion MNIST\n",
        "(x_train, y_train), (x_test, y_test) = fashion_mnist.load_data()\n",
        "\n",
        "x_train = np.expand_dims(x_train, -1)\n",
        "x_test = np.expand_dims(x_test, -1)\n",
        "\n",
        "# Створення моделі \n",
        "model = Sequential([\n",
        "    Conv2D(64, (5, 5), padding=\"same\",\n",
        "\t\t\t\t\tactivation=\"relu\",\n",
        "\t\t\t\t\tinput_shape=(28, 28, 1)),\n",
        "\n",
        "    MaxPooling2D(pool_size=(2, 2)),\n",
        "\n",
        "    Conv2D(128, (5, 5), padding=\"same\",\n",
        "\t\t\t\t\tactivation=\"relu\"),\n",
        "\n",
        "    MaxPooling2D(pool_size=(2, 2)),\n",
        "\t  Conv2D(256, (5, 5), padding=\"same\",\n",
        "\t\t\t\t\tactivation=\"relu\"),\n",
        "\t\n",
        "\t  MaxPooling2D(pool_size=(2, 2)),\n",
        "\n",
        "    Flatten(),\n",
        "    Dense(256, activation='relu', name = 'hidden_1'),\n",
        "\t\tDropout(0.5),\n",
        "\n",
        "    Dense(10, activation='softmax', name = 'output')\n",
        "])\n",
        "\n",
        "# Компіляція моделі\n",
        "model.compile(optimizer='adam',\n",
        "              loss='sparse_categorical_crossentropy',\n",
        "              metrics=['sparse_categorical_accuracy'])\n",
        "\n",
        "# Навчання моделі\n",
        "history = model.fit(\n",
        "\tx_train.astype(np.float32), y_train.astype(np.float32),\n",
        "\tepochs=22,\n",
        "\tsteps_per_epoch=70,\n",
        "\tvalidation_split=0.33\n",
        ")\n"
      ]
    },
    {
      "cell_type": "code",
      "source": [
        "# Оцінка моделі на тестових даних \n",
        "test_loss, test_acc = model.evaluate(x_test, y_test)\n",
        "print('Test accuracy:', test_acc)"
      ],
      "metadata": {
        "colab": {
          "base_uri": "https://localhost:8080/"
        },
        "id": "O3qWeDr7hNuX",
        "outputId": "1486fa10-14c9-4f70-aa22-a379dad385cc"
      },
      "execution_count": 3,
      "outputs": [
        {
          "output_type": "stream",
          "name": "stdout",
          "text": [
            "313/313 [==============================] - 1s 4ms/step - loss: 0.3536 - sparse_categorical_accuracy: 0.9127\n",
            "Test accuracy: 0.9126999974250793\n"
          ]
        }
      ]
    },
    {
      "cell_type": "code",
      "source": [
        "# Accuracy vs Epoch plot\n",
        "plt.plot(history.history['sparse_categorical_accuracy'])\n",
        "plt.plot(history.history['val_sparse_categorical_accuracy'])\n",
        "plt.title('Model Accuracy')\n",
        "plt.ylabel('Accuracy')\n",
        "plt.xlabel('epoch')\n",
        "plt.legend(['train', 'val'], loc='upper left')\n",
        "plt.show()\n",
        "\n",
        "# Loss vs Epoch plot\n",
        "plt.plot(history.history['loss'])\n",
        "plt.plot(history.history['val_loss'])\n",
        "plt.title('Model Loss')\n",
        "plt.ylabel('Loss')\n",
        "plt.xlabel('epoch')\n",
        "plt.legend(['train', 'val'], loc='upper left')\n",
        "plt.show()"
      ],
      "metadata": {
        "colab": {
          "base_uri": "https://localhost:8080/",
          "height": 573
        },
        "id": "xd05hW-NhBfC",
        "outputId": "9c6b3fc4-e4a2-44e0-c515-590d22e3e1ec"
      },
      "execution_count": 4,
      "outputs": [
        {
          "output_type": "display_data",
          "data": {
            "text/plain": [
              "<Figure size 432x288 with 1 Axes>"
            ],
            "image/png": "[encoded data removed]"
          },
          "metadata": {
            "needs_background": "light"
          }
        },
        {
          "output_type": "display_data",
          "data": {
            "text/plain": [
              "<Figure size 432x288 with 1 Axes>"
            ],
            "image/png": "[encoded data removed]"
          },
          "metadata": {
            "needs_background": "light"
          }
        }
      ]
    },
    {
      "cell_type": "code",
      "source": [
        "model.save_weights('./model.h5', overwrite=True)"
      ],
      "metadata": {
        "id": "vjRp0OOMevbs"
      },
      "execution_count": 5,
      "outputs": []
    },
    {
      "cell_type": "code",
      "source": [
        "model.save(\"my_model_2\")"
      ],
      "metadata": {
        "colab": {
          "base_uri": "https://localhost:8080/"
        },
        "id": "fuXwtende3bI",
        "outputId": "f508e441-e9a2-44dd-9382-ee174f816cf5"
      },
      "execution_count": 6,
      "outputs": [
        {
          "output_type": "stream",
          "name": "stderr",
          "text": [
            "WARNING:absl:Found untraced functions such as _jit_compiled_convolution_op, _jit_compiled_convolution_op, _jit_compiled_convolution_op while saving (showing 3 of 3). These functions will not be directly callable after loading.\n"
          ]
        }
      ]
    }
  ]
}