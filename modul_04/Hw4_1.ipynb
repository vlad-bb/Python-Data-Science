{
  "nbformat": 4,
  "nbformat_minor": 0,
  "metadata": {
    "colab": {
      "provenance": []
    },
    "kernelspec": {
      "name": "python3",
      "display_name": "Python 3"
    },
    "language_info": {
      "name": "python"
    }
  },
  "cells": [
    {
      "cell_type": "markdown",
      "source": [
        "# Домашне завдання Модуль 4 Частина 1"
      ],
      "metadata": {
        "id": "4WtklGYvNDNu"
      }
    },
    {
      "cell_type": "code",
      "execution_count": 1,
      "metadata": {
        "id": "8a5o67YYMkYz"
      },
      "outputs": [],
      "source": [
        "import numpy as np\n",
        "import matplotlib.pyplot as plt\n",
        "from scipy.interpolate import interp1d\n",
        "from scipy import integrate"
      ]
    },
    {
      "cell_type": "markdown",
      "source": [
        "Є набір даних speed, який є значенням швидкості, для деякого транспортного засобу в певний момент спостереження. Очевидно, що дані мають дискретний вигляд. Відомо, що спостереження відбувалися з періодом одну годину."
      ],
      "metadata": {
        "id": "I0iNvaz9NNAl"
      }
    },
    {
      "cell_type": "code",
      "source": [
        "speed = [25, 35, 45, 30, 60, 120, 100, 100, 70, 75, 80, 65]"
      ],
      "metadata": {
        "id": "nWZZbdlxNaTr"
      },
      "execution_count": 2,
      "outputs": []
    },
    {
      "cell_type": "markdown",
      "source": [
        "Приймемо, що в нульовій координаті у нас швидкість 25 км/год, згідно з набором даних speed. \n",
        "Помістіть у змінну time — вектор часу, створений за допомогою np.linspace (всього 12 спостережень, від 0 до 11 годин)\n",
        "Виконайте висновок масиву time"
      ],
      "metadata": {
        "id": "wk1fc6EmNpId"
      }
    },
    {
      "cell_type": "code",
      "source": [
        "speed = np.array([25, 35, 45, 30, 60, 120, 100, 100, 70, 75, 80, 65])\n",
        "time = np.linspace(0, 11, num=12)\n",
        "time"
      ],
      "metadata": {
        "colab": {
          "base_uri": "https://localhost:8080/"
        },
        "id": "06VN58xoNeHf",
        "outputId": "3bea8ebb-9e3a-4028-b5b4-68e39dff6c96"
      },
      "execution_count": 3,
      "outputs": [
        {
          "output_type": "execute_result",
          "data": {
            "text/plain": [
              "array([ 0.,  1.,  2.,  3.,  4.,  5.,  6.,  7.,  8.,  9., 10., 11.])"
            ]
          },
          "metadata": {},
          "execution_count": 3
        }
      ]
    },
    {
      "cell_type": "markdown",
      "source": [
        "Виконайте виведення графіка - значення точок швидкості (plot або scatter). Встановіть розмір області (0, 11) та (0, 130). Задайте відображення сітки"
      ],
      "metadata": {
        "id": "Pu1xXc3uNoO-"
      }
    },
    {
      "cell_type": "code",
      "source": [
        "plt.grid()\n",
        "plt.plot(time, speed)\n",
        "plt.xticks(np.arange(0, 12, step=1))\n",
        "plt.yticks(np.arange(0, 140, step=10))\n",
        "plt.show()"
      ],
      "metadata": {
        "colab": {
          "base_uri": "https://localhost:8080/",
          "height": 269
        },
        "id": "eMym4IBAN6Fd",
        "outputId": "d18fc86c-f5d5-4714-8fd5-e6cb02f0056d"
      },
      "execution_count": 4,
      "outputs": [
        {
          "output_type": "display_data",
          "data": {
            "text/plain": [
              "<Figure size 432x288 with 1 Axes>"
            ],
            "image/png": "[encoded data removed]"
          },
          "metadata": {
            "needs_background": "light"
          }
        }
      ]
    },
    {
      "cell_type": "markdown",
      "source": [
        "Виконайте інтерполяцію за допомогою interp1d(kind='cubic') та отримайте функцію на 10000 значень. Побудуйте безперервний графік отриманої функції."
      ],
      "metadata": {
        "id": "9Yka1AjrOQD3"
      }
    },
    {
      "cell_type": "code",
      "source": [
        "func = interp1d(time, speed, kind='cubic')\n",
        "arg = np.linspace(0, 11, 10000, endpoint=False)\n",
        "plt.plot(arg, func(arg))\n",
        "plt.grid()\n",
        "plt.xticks(np.arange(0, 12, step=1))\n",
        "plt.yticks(np.arange(0, 140, step=10))\n",
        "plt.show()"
      ],
      "metadata": {
        "colab": {
          "base_uri": "https://localhost:8080/",
          "height": 269
        },
        "id": "XaxDd5kMOD4b",
        "outputId": "a9824c45-88e5-4a10-d8ab-a865f0ca94f1"
      },
      "execution_count": 5,
      "outputs": [
        {
          "output_type": "display_data",
          "data": {
            "text/plain": [
              "<Figure size 432x288 with 1 Axes>"
            ],
            "image/png": "[encoded data removed]"
          },
          "metadata": {
            "needs_background": "light"
          }
        }
      ]
    },
    {
      "cell_type": "markdown",
      "source": [
        "Відповідно до фізичного змісту першої похідної, похідна функції у точці є миттєва швидкість точки.\n",
        "Обчисліть інтеграл для отриманої інтерполяційної функції на проміжку [0, 11]"
      ],
      "metadata": {
        "id": "6pm1t56WOync"
      }
    },
    {
      "cell_type": "code",
      "source": [
        "result = integrate.quad(func, 0, 11)\n",
        "result"
      ],
      "metadata": {
        "colab": {
          "base_uri": "https://localhost:8080/"
        },
        "id": "pirnvt7BOzNW",
        "outputId": "2754eac1-319c-43bd-b54a-64a03528ff95"
      },
      "execution_count": 6,
      "outputs": [
        {
          "output_type": "execute_result",
          "data": {
            "text/plain": [
              "(761.586477590826, 8.076465307417539e-06)"
            ]
          },
          "metadata": {},
          "execution_count": 6
        }
      ]
    },
    {
      "cell_type": "markdown",
      "source": [
        "Виконайте також ці пункти для kind='quadratic'"
      ],
      "metadata": {
        "id": "_TKid4ZoPSvl"
      }
    },
    {
      "cell_type": "code",
      "source": [
        "quad_func = interp1d(time, speed, kind='quadratic')\n",
        "quad_arg = np.linspace(0, 11, 10000, endpoint=False)\n",
        "plt.plot(quad_arg, quad_func(quad_arg))\n",
        "plt.grid()\n",
        "plt.xticks(np.arange(0, 12, step=1))\n",
        "plt.yticks(np.arange(0, 140, step=10))\n",
        "plt.show()"
      ],
      "metadata": {
        "colab": {
          "base_uri": "https://localhost:8080/",
          "height": 269
        },
        "id": "Vf-xxlmoPXdU",
        "outputId": "9fd99a3a-e596-4927-9f7e-62ed878e256c"
      },
      "execution_count": 7,
      "outputs": [
        {
          "output_type": "display_data",
          "data": {
            "text/plain": [
              "<Figure size 432x288 with 1 Axes>"
            ],
            "image/png": "[encoded data removed]"
          },
          "metadata": {
            "needs_background": "light"
          }
        }
      ]
    },
    {
      "cell_type": "code",
      "source": [
        "quad_result = integrate.quad(quad_func, 0, 11)\n",
        "quad_result"
      ],
      "metadata": {
        "colab": {
          "base_uri": "https://localhost:8080/"
        },
        "id": "GO06PWIIPtrz",
        "outputId": "1751330d-9414-4470-f969-249e49b6f2df"
      },
      "execution_count": 9,
      "outputs": [
        {
          "output_type": "execute_result",
          "data": {
            "text/plain": [
              "(762.7374192196539, 8.90840455225548e-06)"
            ]
          },
          "metadata": {},
          "execution_count": 9
        }
      ]
    },
    {
      "cell_type": "code",
      "source": [],
      "metadata": {
        "id": "ZPArJeA8P2UB"
      },
      "execution_count": null,
      "outputs": []
    }
  ]
}