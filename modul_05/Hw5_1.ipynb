{
  "nbformat": 4,
  "nbformat_minor": 0,
  "metadata": {
    "colab": {
      "provenance": []
    },
    "kernelspec": {
      "name": "python3",
      "display_name": "Python 3"
    },
    "language_info": {
      "name": "python"
    }
  },
  "cells": [
    {
      "cell_type": "markdown",
      "source": [
        "\n",
        "\n",
        "# Домашне завдання Модуль 5 \n",
        "## Частина перша\n",
        "\n"
      ],
      "metadata": {
        "id": "2QAKQYGT8Cys"
      }
    },
    {
      "cell_type": "markdown",
      "source": [
        "Для прямокутної області площею 1000 м2, що примикає до прямої ділянки річки, необхідно збудувати огорожу (причому з боку річки огорожу будувати не потрібно). За яких розмірів області a, b довжина огорожі буде мінімальною? Використовуйте функцію minimize з параметрами обмеження bounds і constraints"
      ],
      "metadata": {
        "id": "3cr_2-kK8i20"
      }
    },
    {
      "cell_type": "code",
      "source": [
        "from scipy.optimize import minimize\n",
        "from scipy.optimize import minimize_scalar\n",
        "import numpy as np\n",
        "import matplotlib.pyplot as plt"
      ],
      "metadata": {
        "id": "CKzfcFxX8WZw"
      },
      "execution_count": 1,
      "outputs": []
    },
    {
      "cell_type": "markdown",
      "source": [
        "Розвязок за допомогою методу **bounds**"
      ],
      "metadata": {
        "id": "ehbtgUgP9MfL"
      }
    },
    {
      "cell_type": "code",
      "source": [
        "def P(a):\n",
        "    return 2*a + 1000/a\n",
        "\n",
        "x = np.linspace(1, 100, 200)\n",
        "plt.grid()\n",
        "plt.plot(x, P(x))\n",
        "\n",
        "\n",
        "result = minimize_scalar(P, bounds= (1, 50), method='Bounded')\n",
        "\n",
        "plt.plot(result['x'], P(result['x']), 'ro');"
      ],
      "metadata": {
        "colab": {
          "base_uri": "https://localhost:8080/",
          "height": 265
        },
        "id": "Aii6Y0S59Joq",
        "outputId": "0d385ffc-e5e3-4683-c3dd-4ac8f253ae71"
      },
      "execution_count": 3,
      "outputs": [
        {
          "output_type": "display_data",
          "data": {
            "text/plain": [
              "<Figure size 432x288 with 1 Axes>"
            ],
            "image/png": "[encoded data removed]"
          },
          "metadata": {
            "needs_background": "light"
          }
        }
      ]
    },
    {
      "cell_type": "markdown",
      "source": [
        "Розвязок за допомогою **constraints**"
      ],
      "metadata": {
        "id": "txUAacCy90zs"
      }
    },
    {
      "cell_type": "code",
      "source": [
        "def P(x):\n",
        "  a = x[0]\n",
        "  b = x[1]\n",
        "  return (2*a + b)\n",
        "\n",
        "\n",
        "def constraint(x):\n",
        "  a = x[0]\n",
        "  b = x[1]\n",
        "  return a*b-1000\n",
        "\n",
        "b = (0, 400)\n",
        "bnds = (b, b)\n",
        "cons = ({'type': 'eq', 'fun': constraint})\n",
        "minimize(P, [40, 40], bounds=bnds, constraints= cons)\n"
      ],
      "metadata": {
        "colab": {
          "base_uri": "https://localhost:8080/"
        },
        "id": "EE4x51U797Ts",
        "outputId": "0ede961f-83ee-49fa-c5ec-d6139ed75e74"
      },
      "execution_count": 6,
      "outputs": [
        {
          "output_type": "execute_result",
          "data": {
            "text/plain": [
              "     fun: 89.44271909262336\n",
              "     jac: array([2., 1.])\n",
              " message: 'Optimization terminated successfully'\n",
              "    nfev: 30\n",
              "     nit: 10\n",
              "    njev: 10\n",
              "  status: 0\n",
              " success: True\n",
              "       x: array([22.36068095, 44.7213572 ])"
            ]
          },
          "metadata": {},
          "execution_count": 6
        }
      ]
    }
  ]
}