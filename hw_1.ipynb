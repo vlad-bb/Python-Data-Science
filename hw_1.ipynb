{
 "cells": [
  {
   "cell_type": "markdown",
   "metadata": {},
   "source": [
    "# Решите следующий комплекс задач. Составьте систему линейных уравнений и решите ее с помощью модуля numpy\n"
   ]
  },
  {
   "cell_type": "markdown",
   "metadata": {},
   "source": [
    "Вкладчик положил 50000 условных единиц на три разных счета в три разных банка. По первому счету выплаты составят 5% годовых, по второму – 7% годовых и по третьему 6% годовых. Известно, что через год вкладчик получил по процентам сумму в 2250 у.е. с первого и второго банка и сумму в 1400 у.е. с первого и третьего банка. Сколько условных единиц он положил на каждый счет изначально?"
   ]
  },
  {
   "cell_type": "code",
   "execution_count": 3,
   "metadata": {},
   "outputs": [],
   "source": [
    "import numpy as np"
   ]
  },
  {
   "cell_type": "code",
   "execution_count": 25,
   "metadata": {},
   "outputs": [
    {
     "data": {
      "text/plain": [
       "array([[1.  , 1.  , 1.  ],\n",
       "       [0.05, 0.07, 0.  ],\n",
       "       [0.05, 0.  , 0.06]])"
      ]
     },
     "execution_count": 25,
     "metadata": {},
     "output_type": "execute_result"
    }
   ],
   "source": [
    "coefficient = np.array([[1, 1, 1],[0.05, 0.07, 0],[0.05, 0, 0.06]], dtype=float)\n",
    "coefficient\n"
   ]
  },
  {
   "cell_type": "code",
   "execution_count": 26,
   "metadata": {},
   "outputs": [
    {
     "data": {
      "text/plain": [
       "array([50000.,  2250.,  1400.])"
      ]
     },
     "execution_count": 26,
     "metadata": {},
     "output_type": "execute_result"
    }
   ],
   "source": [
    "money = np.array([50000, 2250, 1400], dtype=float)\n",
    "money"
   ]
  },
  {
   "cell_type": "code",
   "execution_count": 27,
   "metadata": {},
   "outputs": [
    {
     "data": {
      "text/plain": [
       "array([10000., 25000., 15000.])"
      ]
     },
     "execution_count": 27,
     "metadata": {},
     "output_type": "execute_result"
    }
   ],
   "source": [
    "deposits = np.linalg.solve(coefficient, money)\n",
    "deposits"
   ]
  },
  {
   "cell_type": "code",
   "execution_count": 29,
   "metadata": {},
   "outputs": [
    {
     "name": "stdout",
     "output_type": "stream",
     "text": [
      "Deposit in first bank: 10000.0\n",
      "Deposit in second bank: 25000.0\n",
      "Deposit in third bank: 15000.0\n"
     ]
    }
   ],
   "source": [
    "print(f'Deposit in first bank: {deposits[0]}')\n",
    "print(f'Deposit in second bank: {deposits[1]}')\n",
    "print(f'Deposit in third bank: {deposits[2]}')"
   ]
  },
  {
   "cell_type": "markdown",
   "metadata": {},
   "source": [
    "На складе хранятся мобильные телефоны iPhone 6, iPhone 11, iPhone 12 моделей. Всего 1328 экземпляра. Моделей iPhone 6 на 120 меньше, чем моделей iPhone 11, и на 100 больше, чем моделей iPhone 12. Сколько моделей каждого вида на складе?"
   ]
  },
  {
   "cell_type": "code",
   "execution_count": 41,
   "metadata": {},
   "outputs": [
    {
     "data": {
      "text/plain": [
       "array([[ 1,  1,  1],\n",
       "       [ 1, -1,  1],\n",
       "       [ 1,  1, -1]])"
      ]
     },
     "execution_count": 41,
     "metadata": {},
     "output_type": "execute_result"
    }
   ],
   "source": [
    "models = np.array([[1, 1, 1], [1, -1, 1], [1, 1, -1]], dtype=int)\n",
    "models"
   ]
  },
  {
   "cell_type": "code",
   "execution_count": 42,
   "metadata": {},
   "outputs": [
    {
     "data": {
      "text/plain": [
       "array([1238,  100,   12])"
      ]
     },
     "execution_count": 42,
     "metadata": {},
     "output_type": "execute_result"
    }
   ],
   "source": [
    "count = np.array([1238, 100, 12], dtype=int)\n",
    "count"
   ]
  },
  {
   "cell_type": "code",
   "execution_count": 43,
   "metadata": {},
   "outputs": [
    {
     "data": {
      "text/plain": [
       "array([ 56., 569., 613.])"
      ]
     },
     "execution_count": 43,
     "metadata": {},
     "output_type": "execute_result"
    }
   ],
   "source": [
    "quantity = np.linalg.inv(models).dot(count)\n",
    "quantity"
   ]
  },
  {
   "cell_type": "code",
   "execution_count": 55,
   "metadata": {},
   "outputs": [
    {
     "name": "stdout",
     "output_type": "stream",
     "text": [
      "-----------------------\n",
      "|  Model   | Quantity |\n",
      "-----------------------\n",
      "|Iphone 6  |    56    |\n",
      "|Iphone 11 |   569    |\n",
      "|Iphone 12 |   613    |\n",
      "-----------------------\n"
     ]
    }
   ],
   "source": [
    "print('-' * 23)\n",
    "print('|{:^10}|{:^10}|'.format('Model', 'Quantity'))\n",
    "print('-'*23)\n",
    "print('|{:<10}|{:^10}|'.format('Iphone 6', int(quantity[0])))\n",
    "print('|{:<10}|{:^10}|'.format('Iphone 11', int(quantity[1])))\n",
    "print('|{:<10}|{:^10}|'.format('Iphone 12', int(quantity[2])))\n",
    "print('-' * 23)"
   ]
  },
  {
   "cell_type": "markdown",
   "metadata": {},
   "source": [
    "Составьте каноническое уравнение эллипсоида, проходящего через три точки A,B,CA,B,C\n",
    "\n",
    "Каноническое уравнение эллипсоида в прямоугольной декартовой системе координат имеет вид:\n",
    "\n",
    "Задача состоит в определении параметров a^2a, b^2b  и c^2c "
   ]
  },
  {
   "cell_type": "code",
   "execution_count": 58,
   "metadata": {},
   "outputs": [
    {
     "data": {
      "text/plain": [
       "array([[3.        , 0.        , 3.        ],\n",
       "       [6.        , 0.25      , 0.        ],\n",
       "       [1.        , 0.33333333, 1.        ]])"
      ]
     },
     "execution_count": 58,
     "metadata": {},
     "output_type": "execute_result"
    }
   ],
   "source": [
    "#отримаємо матрицю точок А Б С\n",
    "points = np.array([[3, 0, 3], [6, 1/4, 0], [1, 1/3, 1]], dtype=float)\n",
    "points"
   ]
  },
  {
   "cell_type": "code",
   "execution_count": 59,
   "metadata": {},
   "outputs": [],
   "source": [
    "diveder = np.array([1, 1, 1])"
   ]
  },
  {
   "cell_type": "code",
   "execution_count": 61,
   "metadata": {},
   "outputs": [
    {
     "data": {
      "text/plain": [
       "array([0.08333333, 2.        , 0.25      ])"
      ]
     },
     "execution_count": 61,
     "metadata": {},
     "output_type": "execute_result"
    }
   ],
   "source": [
    "decart_points = np.linalg.solve(points, diveder)\n",
    "decart_points"
   ]
  },
  {
   "cell_type": "code",
   "execution_count": 64,
   "metadata": {},
   "outputs": [
    {
     "data": {
      "text/plain": [
       "[3.4641016151377553, 0.7071067811865475, 2.0]"
      ]
     },
     "execution_count": 64,
     "metadata": {},
     "output_type": "execute_result"
    }
   ],
   "source": [
    "param = [(1/i)**0.5 for i in decart_points]\n",
    "param"
   ]
  },
  {
   "cell_type": "code",
   "execution_count": 65,
   "metadata": {},
   "outputs": [
    {
     "name": "stdout",
     "output_type": "stream",
     "text": [
      "Параметри: [3.4641016151377553, 0.7071067811865475, 2.0]\n"
     ]
    }
   ],
   "source": [
    "print(f'Параметри: {param}')"
   ]
  },
  {
   "cell_type": "markdown",
   "metadata": {},
   "source": [
    "Составьте уравнение параболы проходящей через заданные три точки (1,12), (3,54), (-1,2). Необходимо найти коэффициенты уравнения a,b,ca,b,c\n"
   ]
  },
  {
   "cell_type": "code",
   "execution_count": 66,
   "metadata": {},
   "outputs": [
    {
     "data": {
      "text/plain": [
       "matrix([[ 1,  1,  1],\n",
       "        [ 9,  3,  1],\n",
       "        [ 1, -1,  1]])"
      ]
     },
     "execution_count": 66,
     "metadata": {},
     "output_type": "execute_result"
    }
   ],
   "source": [
    "first = np.matrix(\"1, 1, 1; 9, 3, 1; 1, -1, 1\")\n",
    "first"
   ]
  },
  {
   "cell_type": "code",
   "execution_count": 67,
   "metadata": {},
   "outputs": [
    {
     "data": {
      "text/plain": [
       "matrix([[12],\n",
       "        [54],\n",
       "        [ 2]])"
      ]
     },
     "execution_count": 67,
     "metadata": {},
     "output_type": "execute_result"
    }
   ],
   "source": [
    "second = np.matrix(\"12;54;2\")\n",
    "second\n"
   ]
  },
  {
   "cell_type": "code",
   "execution_count": 72,
   "metadata": {},
   "outputs": [
    {
     "data": {
      "text/plain": [
       "matrix([[4.],\n",
       "        [5.],\n",
       "        [3.]])"
      ]
     },
     "execution_count": 72,
     "metadata": {},
     "output_type": "execute_result"
    }
   ],
   "source": [
    "result = np.linalg.solve(first, second)\n",
    "result"
   ]
  },
  {
   "cell_type": "code",
   "execution_count": 73,
   "metadata": {},
   "outputs": [
    {
     "name": "stdout",
     "output_type": "stream",
     "text": [
      "Коефіціент a: 4\n",
      "Коефіціент b: 5\n",
      "Коефіціент c: 3\n"
     ]
    }
   ],
   "source": [
    "print(f'Коефіціент a: {int(result[0])}')\n",
    "print(f'Коефіціент b: {int(result[1])}')\n",
    "print(f'Коефіціент c: {int(result[2])}')"
   ]
  },
  {
   "cell_type": "markdown",
   "metadata": {},
   "source": [
    "Составьте функцию get_polynom, которая по набору точек вида (x_1,y_1),(x_2,y_2), \\ldots, (x_{n+1}, y_{n+1})(x1,y1),(x2,y2),…,(x n+1 ,y n+1) будет находить коэффициенты многочлена c_ici.\n",
    "Таким образом функция принимает список кортежей с координатами и возвращает набор коэффициентов c_0,c_1, \\ldots ,c_nc0,c1,…,cn"
   ]
  },
  {
   "cell_type": "code",
   "execution_count": 75,
   "metadata": {},
   "outputs": [],
   "source": [
    "import numpy as np\n",
    "\n",
    "\n",
    "def get_polynom(coords):\n",
    "    a = []\n",
    "    b = []\n",
    "    for x, y in coords:\n",
    "        row = []\n",
    "        b.append(y)\n",
    "        for i in range(len(coords)):\n",
    "            row.append(x**i)\n",
    "        a.append(row)\n",
    "    return np.linalg.solve(a, b)\n",
    "\n",
    "result = get_polynom([(1, 2), (30, 50), (-1, 9)])"
   ]
  },
  {
   "cell_type": "code",
   "execution_count": 77,
   "metadata": {},
   "outputs": [
    {
     "name": "stdout",
     "output_type": "stream",
     "text": [
      "Коэффициенты многочлена: [5.333704115684093, -3.5, 0.16629588431590656]\n"
     ]
    }
   ],
   "source": [
    "print(f'Коэффициенты многочлена: {[i for i in result]}')"
   ]
  }
 ],
 "metadata": {
  "kernelspec": {
   "display_name": "Python 3.10.5 64-bit",
   "language": "python",
   "name": "python3"
  },
  "language_info": {
   "codemirror_mode": {
    "name": "ipython",
    "version": 3
   },
   "file_extension": ".py",
   "mimetype": "text/x-python",
   "name": "python",
   "nbconvert_exporter": "python",
   "pygments_lexer": "ipython3",
   "version": "3.10.5"
  },
  "orig_nbformat": 4,
  "vscode": {
   "interpreter": {
    "hash": "aee8b7b246df8f9039afb4144a1f6fd8d2ca17a180786b69acc140d282b71a49"
   }
  }
 },
 "nbformat": 4,
 "nbformat_minor": 2
}
